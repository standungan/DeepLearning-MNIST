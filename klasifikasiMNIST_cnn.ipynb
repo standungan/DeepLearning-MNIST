{
  "nbformat": 4,
  "nbformat_minor": 0,
  "metadata": {
    "colab": {
      "name": "klasifikasiMNIST_cnn.ipynb",
      "version": "0.3.2",
      "provenance": [],
      "collapsed_sections": [],
      "include_colab_link": true
    },
    "kernelspec": {
      "display_name": "Python 3",
      "language": "python",
      "name": "python3"
    }
  },
  "cells": [
    {
      "cell_type": "markdown",
      "metadata": {
        "id": "view-in-github",
        "colab_type": "text"
      },
      "source": [
        "<a href=\"https://colab.research.google.com/github/standungan/mnist_CNN/blob/master/klasifikasiMNIST_cnn.ipynb\" target=\"_parent\"><img src=\"https://colab.research.google.com/assets/colab-badge.svg\" alt=\"Open In Colab\"/></a>"
      ]
    },
    {
      "metadata": {
        "id": "kow-hD9oJ7St",
        "colab_type": "text"
      },
      "cell_type": "markdown",
      "source": [
        "#### Intro\n",
        "\n",
        "Pada artikel kali ini kita akan mencoba membuat salah satu jenis model Jaringan Syaraf Tiruan yang memiliki keunikan dari arsitektur atau susunan layernya dibandingkan dengan model JST lainnya, yaitu Convolutional Neural Network.\n",
        "\n",
        "Convolutional Neural Network (CNN) pertama kali diperkenalkan oleh Yann LeCun pada tahun 1988. CNN merupakan salah satu metode yang mengawali kemunculan dan kesuksesan Deep Learning.\n",
        "\n",
        "Pada tahun 1950-an Hubel dan Wisel melakukan eksperimen pada salah satu bagian otak kucing yaitu visual cortex. mereka menemukan bahwa visual cortex memiliki bagian kecil berupa sel-sel yang sensitif terhadap area tertentu pada pandangan mata. Hubel dan Wisel menemukan 2 tipe visual cortex, yaitu simple cell dan complex cell. Berdasarkan hasil pengamatan ini, pada tahun 1980-an Kunihiko Fukushima merancang Neocognitron yang merupakan model Hierarchical Multilayered Neural Network. Model tersebut telah digunakan pada beberapa kasus seperti klasifikasi karakter dari tulisan tangan (Handwritten Character Recognition). model inilah yang menjadi inspirasi dari Convolutional Neural Network.\n",
        "\n",
        "CNN memiliki kesamaan struktur dengan artificial neural network. Pada kasus klasifikasi citra, CNN menerima citra input atau masukan kemudian diproses dan diklasifikasi ke kategori tertentu (mis. pesawat, kapal, burung, kucing, sapi). \n",
        "\n",
        "Yang membedakan CNN dengan ANN adalah CNN memiliki arsitektur tambahan yang dioptimisasi untuk fitur yang ada pada citra input. komponen-komponen utama yang ada di dalam Convolutional Neural Networks adalah:\n",
        "1. Input layer\n",
        "2. Convolution Layer\n",
        "3. Activation Function\n",
        "4. Pooling Layer\n",
        "5. Fully Connected Layer\n",
        "\n",
        "Pada gambar di bawah ini bisa dilihat alur dari proses CNN dalam mengolah citra masukan sampai mengklasifikasikan citra tersebut ke kategori tertentu berdasarkan nilai keluarannya.\n",
        "\n",
        "<img src=\"https://github.com/standungan/images/blob/master/CNNflow.jpeg?raw=true\"/>"
      ]
    },
    {
      "metadata": {
        "id": "rmQoWvw9J7Sv",
        "colab_type": "text"
      },
      "cell_type": "markdown",
      "source": [
        "#### Input Layer\n",
        "Input layer menampung nilai piksel dari citra yang menjadi masukan. Untuk citra dengan ukuran 64x64 dengan 3 channel warna, RGB(Red, Green, Blue) maka yang menjadi masukan akan adalah piksel array yang berukuran 64x64x3.\n",
        "\n",
        "<img src=\"https://github.com/standungan/images/blob/master/rgb_example.jpg?raw=true\"/>\n",
        "#### Convolution Layer\n",
        "Convolution Layer adalah inti dari dari CNN. Convolution Layer menghasilkan citra baru yang menunjukkan fitur dari citra input. Dalam proses tersebut, Convolution Layer menggunakan filter pada setiap citra yang menjadi masukan. Filter pada layer ini berupa array 2 dimensi bisa berukuran 5x5, 3x3 atau 1x1. Proses convolution dengan menggunakan filter pada layer ini akan menghasikan feature map yang akan digunakan pada activation layer. Gambar dibawah ini menunjukkan alur pada Convolution Layer.\n",
        "<img src=\"https://github.com/standungan/images/blob/master/convLayer.gif?raw=true\"/>\n",
        "#### Activation Layer\n",
        "Activation Layer adalah layer dimana feature map dimasukkan ke dalam fungsi aktifasi. Fungsi aktifasi digunakan untuk mengubah nilai-nilai pada feature map pada range tertentu sesuai dengan fungsi aktifasi yang digunakan. ini bertujuan untuk meneruskan nilai yang menampilkan fitur dominan dari citra yang masuk ke layer berikutnya. Fungsi aktifasi yang umum digunakan bisa dilihat pada gambar berikut.\n",
        "\n",
        "<img src=\"https://github.com/standungan/images/blob/master/actFunc.png?raw=true\"/>\n",
        "#### Pooling Layer\n",
        "Pooling layer menerima input dari activation layer kemudia mengurangi jumlah paramaternya. Poling juga biasa disebut subsampling atau downsampling yang mengurangi dimensi dari feature map tanpa menghilangkan informasi penting di dalamnya. Proses dalam pooling layer cukup sederhana. pertama-tama kita menentukan ukuran downsampling yang akan digunakan pada feature map, misalnya 2x2. Setelah itu kta akan melakukan proses pooling pada feature map, sebagai contoh kita akan menggunakan feature map berukuran 4x4 berikut.\n",
        "\n",
        "<img src=\"https://github.com/standungan/images/blob/master/featMap.PNG?raw=true\"/>\n",
        "\n",
        "setelah itu kita akan menggunakan matrix 2x2 untuk melakukan proses pooling. proses Pooling sendiri ada beberapa macam seperti Max pooling, Mean pooling\n",
        "Sum pooling.\n",
        "\n",
        "<img src=\"https://github.com/standungan/images/blob/master/pool_img.PNG?raw=true\"/>\n",
        "\n",
        "#### Fully Connected Layer\n",
        "setelah melewati proses-proses diatas, hasil dari pooling layer digunakan menjadi masukan untuk Fully connected layer. Layer ini memiliki kesamaan struktur dengan Artificial Neural Network pada umumnya yaitu memiliki input layer, hidden layer dan output layer yang masing-masing memiliki neuron-neruon yang saling terhubung dengan neuron-neuron di layer tetangganya. gambar di bawah ini merupakan contoh Fully Connected Layer.\n",
        "\n",
        "<img src=\"https://github.com/standungan/images/blob/master/sampleFCN.png?raw=true\"/>\n",
        "\n",
        "pada gambar diatas dapat dilihat sebelum hasil pooling digunakan sebagai input, hasil pooling terlebih dahulu diubah menjadi vektor (x1, x2, x3, dst) kemudian dari sini diproses ke dalam Fully Connected Layer. Pada layer terakhir di dalam Fully Connected layer akan digunakan fungsi aktifasi sigmoid atau softmax untuk menentukan klasifikasi dari citra inputan atau masukan yang dari Input Layer CNN.\n",
        "\n",
        "<img src=\"https://github.com/standungan/images/blob/master/example.png?raw=true\"/>\n"
      ]
    },
    {
      "metadata": {
        "id": "kZAUg8fgJ7Sw",
        "colab_type": "text"
      },
      "cell_type": "markdown",
      "source": [
        "## Summary\n",
        "\n",
        "Proses Convolutional Neural Network pada penjelasan diatas dapat diringkas seperti berikut : \n",
        "\n",
        "1. Membaca Input, misal citra, kemudian dijadikan input untuk convolution layer\n",
        "2. menentukan parameter seperti filter kemudian menjalankan proses convolution pada citra masukan.\n",
        "3. setelah proses convolution selesai, hasilnya dimasukkan kedalam fungsi aktifasi, misalnya ReLU.\n",
        "4. hasil fungsi aktifasi ReLU mengalami proses downsampling pada Pooling layer\n",
        "5. hasil dari Pooling dapat digunakan sebagai input untuk melalui thaap 2 - 4 atau dijadikan input untuk Fully Connected Layer\n",
        "6. sebelum hasil pooling menjadi input untuk Fully Connected Layer, perlu untuk meengubah hasil pooling menjadi vektor.\n",
        "7. output layer dari Fully Connected Layer menggunakan fungsi aktifasi untuk menentukan klasifikasi dari citra yang dibaca pada tahap 1.\n"
      ]
    },
    {
      "metadata": {
        "id": "n8pXH1MIJ7Sx",
        "colab_type": "text"
      },
      "cell_type": "markdown",
      "source": [
        "# Studi Kasus Convolution Neural Network\n",
        "## Klasifikasi MNIST Handwritten Dataset"
      ]
    },
    {
      "metadata": {
        "id": "dOz_v7nTJ7Sz",
        "colab_type": "text"
      },
      "cell_type": "markdown",
      "source": [
        "setelah membahas Convolutional Neural Network secara umum. Kali ini kita akan merancang CNN untuk mengenali angka yang ditulis dengan tangan. Dataset yang akan kita gunakan adalah MNIST Handwritten Dataset.MNIST dataset memiliki 70.000 citra grayscale angka 0-9 yang ditulis dengan tangan. semua citra dalam dataset ini berukuran 28x28 piksel. kita akan menggunakan data-data ini sebagai inputan atau masukan dan melakukan klasifikasi angka pada suatu gambar berikut dengan nilai probabilitas atau confidence dari hasil klasifikasinya.\n",
        "\n",
        "<img src=\"https://github.com/standungan/images/blob/master/mnistCase.png?raw=true\"/>\n",
        "\n",
        "pertama kita perlu memanggil module-module python dengan perintah import. kita akan menggunakan framework Tensorflow dan Keras untuk merancang CNN."
      ]
    },
    {
      "metadata": {
        "id": "89yUyST3J7Sz",
        "colab_type": "code",
        "outputId": "74e2e48b-41fe-4634-c600-0600ce7d8b29",
        "colab": {
          "base_uri": "https://localhost:8080/",
          "height": 34
        }
      },
      "cell_type": "code",
      "source": [
        "import tensorflow as tf\n",
        "from tensorflow import keras\n",
        "from tensorflow.keras.layers import Conv2D, MaxPooling2D, Dropout, Flatten, Dense\n",
        "import matplotlib.pyplot as plt\n",
        "import pandas as pd\n",
        "import seaborn as sns\n",
        "import cv2\n",
        "import numpy as np\n",
        "import os\n",
        "import sys\n",
        "import IPython\n",
        "from six.moves import urllib\n",
        "\n",
        "print(tf.__version__)"
      ],
      "execution_count": 0,
      "outputs": [
        {
          "output_type": "stream",
          "text": [
            "1.13.0-rc0\n"
          ],
          "name": "stdout"
        }
      ]
    },
    {
      "metadata": {
        "id": "lNF8T52UJ7S6",
        "colab_type": "text"
      },
      "cell_type": "markdown",
      "source": [
        "tahap berikutnya adalah memanggil MNIST Dataset dari folder keras. tiap citra dalam dataset ini adalah Numpy Array dengan ukuran 28x28 dengan nilai piksel antara 0-255. tiap citra juga memiliki label atau target dengan nilai integer 0-9."
      ]
    },
    {
      "metadata": {
        "id": "vX2FItqjJ7S6",
        "colab_type": "code",
        "outputId": "87c1f5f4-50ea-44d9-a4e7-7806218dd169",
        "colab": {
          "base_uri": "https://localhost:8080/",
          "height": 51
        }
      },
      "cell_type": "code",
      "source": [
        "(train_images, train_labels), (test_images, test_labels) = keras.datasets.mnist.load_data()\n",
        "\n",
        "train_images = train_images.reshape(train_images.shape[0], 28, 28, 1)\n",
        "test_images = test_images.reshape(test_images.shape[0], 28, 28, 1)"
      ],
      "execution_count": 0,
      "outputs": [
        {
          "output_type": "stream",
          "text": [
            "Downloading data from https://storage.googleapis.com/tensorflow/tf-keras-datasets/mnist.npz\n",
            "11493376/11490434 [==============================] - 0s 0us/step\n"
          ],
          "name": "stdout"
        }
      ]
    },
    {
      "metadata": {
        "id": "riHiWouLJ7S9",
        "colab_type": "text"
      },
      "cell_type": "markdown",
      "source": [
        "nilai piksel dari citra dalam dataset akan dinormalisasi terlebih dahulu sebelum digunakan sebagai input untuk model CNN."
      ]
    },
    {
      "metadata": {
        "id": "4CJPwne5J7S_",
        "colab_type": "code",
        "colab": {}
      },
      "cell_type": "code",
      "source": [
        "def preprocess_images(images):\n",
        "    sample_image = images if len(images.shape) == 2 else images[0]\n",
        "    assert sample_image.shape in [(28, 28, 1), (28, 28)], sample_image.shape\n",
        "    return images / 255.0\n",
        "\n",
        "train_images = preprocess_images(train_images)\n",
        "test_images = preprocess_images(test_images)"
      ],
      "execution_count": 0,
      "outputs": []
    },
    {
      "metadata": {
        "id": "LzWTtPW8J7TC",
        "colab_type": "text"
      },
      "cell_type": "markdown",
      "source": [
        "untuk melihat contoh citra dari MNIST dataset, gunakan code dibawah ini."
      ]
    },
    {
      "metadata": {
        "id": "e8_4Tbt0J7TD",
        "colab_type": "code",
        "outputId": "cc05625f-88db-4543-fcd1-f41abf58f220",
        "colab": {
          "base_uri": "https://localhost:8080/",
          "height": 141
        }
      },
      "cell_type": "code",
      "source": [
        "plt.figure(figsize=(10,2))\n",
        "for i in range(5):\n",
        "    plt.subplot(1,5,i+1)\n",
        "    plt.xticks([])\n",
        "    plt.yticks([])\n",
        "    plt.grid(False)\n",
        "    plt.imshow(train_images[i].reshape(28, 28), cmap=plt.cm.binary)\n",
        "    plt.xlabel(train_labels[i])"
      ],
      "execution_count": 0,
      "outputs": [
        {
          "output_type": "display_data",
          "data": {
            "image/png": "[encoded data removed]",
            "text/plain": [
              "<Figure size 720x144 with 5 Axes>"
            ]
          },
          "metadata": {
            "tags": []
          }
        }
      ]
    },
    {
      "metadata": {
        "id": "EbaUqnUUJ7TI",
        "colab_type": "text"
      },
      "cell_type": "markdown",
      "source": [
        "#### Build CNN Model\n",
        "Untuk merancang model CNN, kita perlu untuk memanggil layer yang dibutuhkan dan melakukan konfigurasi pada masing-masing layer. Dengan menggunakan framework Keras, kita dapat dengan mudah membuat layer-layer untuk merancang Convolution Neural Network."
      ]
    },
    {
      "metadata": {
        "id": "YpAUwIQBJ7TI",
        "colab_type": "code",
        "outputId": "37bbec9c-4266-46ac-b988-bd4552edd9dd",
        "colab": {
          "base_uri": "https://localhost:8080/",
          "height": 139
        }
      },
      "cell_type": "code",
      "source": [
        "modelCNN = keras.Sequential()\n",
        "\n",
        "#code dibawah ini melakukan menghasilkan convolution layer yang menerima \n",
        "#input dengan ukuran 28x28x1 \n",
        "#layer ini memiliki 32 filter masing-masing filter berukuran 3x3 \n",
        "#yang kemudian akan dimasukkan ke activation layer\n",
        "#fungsi aktifasi yang digunakan adalah ReLU (Rectified Linear Unit).\n",
        "modelCNN.add(Conv2D(32,\n",
        "                    kernel_size=(3,3), \n",
        "                    activation='relu', \n",
        "                    input_shape=(28,28,1)))\n",
        "\n",
        "#pada model CNN ini, kita akan menambahkan convolutional layer yang akan \n",
        "#memproses hasil convolutional layer di atas.\n",
        "modelCNN.add(Conv2D(64,\n",
        "                    kernel_size=(3,3), \n",
        "                    activation='relu'))\n",
        "\n",
        "#code ini menghasilkan pooling layer dengan ukuran 2x2\n",
        "modelCNN.add(MaxPooling2D(pool_size=(2,2)))\n",
        "\n",
        "#pada kita akan menggunakan DropOut layer, ini berfungsi untuk\n",
        "#meningkatkan kinerja CNN pada proses klasifikasi\n",
        "modelCNN.add(Dropout(0.25))\n",
        "\n",
        "#sebelum hasil layer di atas digunakan untuk Fully Connected Layer\n",
        "#perlu untuk mengubah hasil tersebut menjadi vektor dengan menggunakan code berikut\n",
        "modelCNN.add(Flatten())\n",
        "\n",
        "#dengan code dibawah ini kita akan membuat Fully Connected Layer yang memiliki\n",
        "# 1 hidden layer dengan 128 neuron. fungsi aktfiasi pada layer ini menggunakan\n",
        "# ReLU\n",
        "modelCNN.add(Dense(128, activation='relu'))\n",
        "\n",
        "modelCNN.add(Dropout(0.5))\n",
        "\n",
        "#code ini bertujuan untuk konfigurasi output layer. pada layer ini\n",
        "#kita akan menggunakan fungsi aktifasi softmax untuk menghasilkan\n",
        "#nilai output dalam bentuk probabilitas\n",
        "modelCNN.add(Dense(10, activation='softmax'))"
      ],
      "execution_count": 0,
      "outputs": [
        {
          "output_type": "stream",
          "text": [
            "WARNING:tensorflow:From /usr/local/lib/python3.6/dist-packages/tensorflow/python/ops/resource_variable_ops.py:435: colocate_with (from tensorflow.python.framework.ops) is deprecated and will be removed in a future version.\n",
            "Instructions for updating:\n",
            "Colocations handled automatically by placer.\n",
            "WARNING:tensorflow:From /usr/local/lib/python3.6/dist-packages/tensorflow/python/keras/layers/core.py:143: calling dropout (from tensorflow.python.ops.nn_ops) with keep_prob is deprecated and will be removed in a future version.\n",
            "Instructions for updating:\n",
            "Please use `rate` instead of `keep_prob`. Rate should be set to `rate = 1 - keep_prob`.\n"
          ],
          "name": "stdout"
        }
      ]
    },
    {
      "metadata": {
        "id": "WmLOwXGwJ7TM",
        "colab_type": "text"
      },
      "cell_type": "markdown",
      "source": [
        "Dengan code di atas kita sudah selesai merancang CNN untuk klasifikasi citra. sebelum lanjut ke proses latih atau training, kita perlu untuk melakukan konfigurasi:\n",
        "1. Loss function - berfungsi untuk mengukur tingkat error atau kesalahan model selama proses latih. Proses latih berjalan untuk mengurangi nilai error.\n",
        "2. Optimizer - fungsi ini menjalankan proses perubahan bobot yang ada di dalam model berdasarkan data atau citra yang menjadi masukan dan hasil dari loss function\n",
        "3. Metrics - digunakan untuk melihat kinerja model CNN setelah melalu proses latih dan uji (testing). kita akan menggunakan nilai Akurasi (accuracy) yang menunjukkan perbandingan jumlah citra yang diklasifikasi dengan benar dan jumlah citra yang digunakan pada proses uji."
      ]
    },
    {
      "metadata": {
        "id": "MRhpRVaGJ7TM",
        "colab_type": "code",
        "colab": {}
      },
      "cell_type": "code",
      "source": [
        "modelCNN.compile(optimizer=tf.train.AdamOptimizer(),\n",
        "                loss='sparse_categorical_crossentropy',\n",
        "                metrics=['accuracy'])"
      ],
      "execution_count": 0,
      "outputs": []
    },
    {
      "metadata": {
        "id": "PBGUx86ZJ7TP",
        "colab_type": "text"
      },
      "cell_type": "markdown",
      "source": [
        "#### Proses Latih model CNN\n",
        "Tahapan proses latih model CNN sebagai berikut:\n",
        "1. gunakan data latih (train_images, train_labels) sebagai inputan atau masukan\n",
        "2. model CNN akan mencoba untuk mencari hubungan antara citra masukan dengan label citra tersebut\n",
        "3. model CNN kemudian melakukan proses klasifikasi dengan menggunakan data uji (test_images). hasil dari klasifikasi tersebut akan dicocokkan dengan hasil sebenarnya (test_labels).\n",
        "\n",
        "untuk memulai proses latih gunakan code di bawah ini."
      ]
    },
    {
      "metadata": {
        "scrolled": true,
        "id": "osaxlDL5J7TQ",
        "colab_type": "code",
        "outputId": "ff028e93-c906-49ac-ba2f-824cd8b3aac0",
        "colab": {
          "base_uri": "https://localhost:8080/",
          "height": 187
        }
      },
      "cell_type": "code",
      "source": [
        "recordTraining = modelCNN.fit(train_images, train_labels, epochs=5)"
      ],
      "execution_count": 0,
      "outputs": [
        {
          "output_type": "stream",
          "text": [
            "Epoch 1/5\n",
            "60000/60000 [==============================] - 171s 3ms/sample - loss: 0.1936 - acc: 0.9413\n",
            "Epoch 2/5\n",
            "60000/60000 [==============================] - 170s 3ms/sample - loss: 0.0812 - acc: 0.9753\n",
            "Epoch 3/5\n",
            "60000/60000 [==============================] - 169s 3ms/sample - loss: 0.0598 - acc: 0.9825\n",
            "Epoch 4/5\n",
            "60000/60000 [==============================] - 170s 3ms/sample - loss: 0.0483 - acc: 0.9848\n",
            "Epoch 5/5\n",
            "60000/60000 [==============================] - 169s 3ms/sample - loss: 0.0411 - acc: 0.9869\n"
          ],
          "name": "stdout"
        }
      ]
    },
    {
      "metadata": {
        "id": "ymEI7WuAJ7TU",
        "colab_type": "text"
      },
      "cell_type": "markdown",
      "source": [
        "output di atas menampilkan hasil loss function dan akurasi selama proses training model CNN yang telah kita rancang sebelumnya. proses training di atas berjalan di Google Colaboratory. jika menggunakan PC atau Laptop yang umum digunakan orang, proses latih akan membutuhkan waktu yang lebih lama.\n",
        "\n",
        "Setelah epoch 5, dapat dilihat bahwa model CNN memiliki hasil loss function sama dengan 0.0411 dan akurasi 98.69% untuk data latih. selanjutnya kita akan melakukan tahapan nomor 3 yaitu melakukan klasifikasi dengan menggunakan data uji."
      ]
    },
    {
      "metadata": {
        "id": "YxpLeyYMaTQ_",
        "colab_type": "code",
        "outputId": "be603cfd-b787-4c2b-9c75-7adf597c037e",
        "colab": {
          "base_uri": "https://localhost:8080/",
          "height": 85
        }
      },
      "cell_type": "code",
      "source": [
        "print('Jumlah data uji', test_images.shape[0])\n",
        "print('Ukuran data uji', test_images.shape[1:4])\n",
        "\n",
        "test_loss, test_accuracy = modelCNN.evaluate(test_images, test_labels)\n",
        "\n",
        "print('Akurasi proses uji : ', test_accuracy)"
      ],
      "execution_count": 0,
      "outputs": [
        {
          "output_type": "stream",
          "text": [
            "Jumlah data uji 10000\n",
            "Ukuran data uji (28, 28, 1)\n",
            "10000/10000 [==============================] - 7s 745us/sample - loss: 0.0282 - acc: 0.9914\n",
            "Akurasi proses uji :  0.9914\n"
          ],
          "name": "stdout"
        }
      ]
    },
    {
      "metadata": {
        "id": "0OhBFSTtbAyh",
        "colab_type": "text"
      },
      "cell_type": "markdown",
      "source": [
        "model CNN  yang telah kita rancang mencapai akurasi 99.14%. Ini menandakan CNN yang telah kita rancang berhasil mengenali data yang belum pernah sama sekali digunakan selama proses latih. langkah selanjutnya kita akan mencoba menggunakan model CNN untuk melakukan klasifikasi untuk kasus di bawah ini\n",
        "\n",
        "<img src=\"https://i.imgur.com/OrUJs9V.gif\"/>\n"
      ]
    },
    {
      "metadata": {
        "id": "SUpryg_wbu-e",
        "colab_type": "code",
        "colab": {}
      },
      "cell_type": "code",
      "source": [
        "videoURL = 'https://github.com/lexfridman/mit-deep-learning/raw/master/tutorial_deep_learning_basics/images/mnist_dream.mp4'\n",
        "\n",
        "mnistVideoPath = urllib.request.urlretrieve(videoURL)[0]\n",
        "\n",
        "def cv2_imshow(image):\n",
        "  ret = cv2.imencode('.png',img)[1].tobytes()\n",
        "  imgDisplay = IPython.display.Image(data=ret)\n",
        "  IPython.display.display(img_ip)\n",
        " \n",
        "cap = cv2.VideoCapture(mnistVideoPath)\n",
        "vw = None\n",
        "frame = -1\n",
        "\n",
        "while True:\n",
        "  frame += 1\n",
        "  ret, image = cap.read()\n",
        "  if not ret:\n",
        "    break\n",
        "   \n",
        "  assert image.shape[0] == image.shape[1]\n",
        "  if image.shape[0] != 720:\n",
        "    image = cv2.resize(image, (720, 720))\n",
        "   \n",
        "  \"preprocessing frame sebelum dijadikan input untuk model CNN\"\n",
        "  img1 = cv2.cvtColor(image, cv2.COLOR_BGR2GRAY)\n",
        "  img1 = cv2.resize(im1, (28, 28))\n",
        "  img1 = preprocess_images(img1)\n",
        "  img1 = 1 - img1\n",
        "  \n",
        "  netIN = np.expand_dims(img1, axis=0)\n",
        "  netIN = np.expand_dims(netIN, axis=3)\n",
        "  \n",
        "  preds = model.predict(netIN)[0]\n",
        "  result = np.argmax(preds)\n",
        "  persentase = np.rint(preds * 100).astype(int)\n",
        "  \n",
        "  image = 255 - image\n",
        "  pad_color = 0\n",
        "  image = np.pad(image, ((0,0),(0,1280-720),(0,0)), mode'constant', constant_values=(pad_color))\n",
        "  \n",
        "  line_type = cv.LINE_AA\n",
        "  font_Style = cv2.FONT_HERSHEY_SIMPLEX\n",
        "  font_Scale = 1.3\n",
        "  thickness = 2\n",
        "  x, y = 720, 60\n",
        "  color = (255,255,255)\n",
        "  \n",
        "  text = \"Hasil Klasifikasi CNN :\"\n",
        "  cv2.putText(image, text=text, org=(x, y), \n",
        "              fontScale=font_Scale, fontFace=font_Style, \n",
        "              thickness=thickness, color=color, lineType=line_type)\n",
        "  \n",
        "  text = \"Masukan :\"\n",
        "  cv2.putText(image, text=text, org=(30, y), \n",
        "              fontScale=font_Scale, fontFace=font_Style, \n",
        "              thickness=thickness, color=color, lineType=line_type)\n",
        "  \n",
        "  y = 130\n",
        "  for i, p in enumerate(percentase):\n",
        "    if i == guess:\n",
        "      color = (255, 220, 220)\n",
        "    else:\n",
        "      color = (100, 100, 100)\n",
        "    \n",
        "    rect_width = 0\n",
        "    if p > 0:\n",
        "      rect_width = int(p*3.3)\n",
        "    \n",
        "    rect_start = 180\n",
        "    cv.rectangle(image, (x+rect_start, y-5), (x+rect_start+rect_width, y-20), color, -1)\n",
        "    \n",
        "    text = '{}: {:>3}%'.format(i, int(p))\n",
        "    cv2.putText(image, text=text, org=(x, y), \n",
        "              fontScale=font_Scale, fontFace=font_Style, \n",
        "              thickness=thickness, color=color, lineType=line_type)\n",
        "    \n",
        "    y+=60\n",
        "   \n",
        "  save_video = True\n",
        "  \n",
        "  if save_video:\n",
        "    if vw is None:\n",
        "      "
      ],
      "execution_count": 0,
      "outputs": []
    },
    {
      "metadata": {
        "id": "9Kqe0o-5fT8J",
        "colab_type": "code",
        "colab": {}
      },
      "cell_type": "code",
      "source": [
        ""
      ],
      "execution_count": 0,
      "outputs": []
    }
  ]
}